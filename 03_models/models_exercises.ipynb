{
 "cells": [
  {
   "cell_type": "markdown",
   "id": "99d29efa",
   "metadata": {},
   "source": [
    "# Regression, Classification, Decision Trees, and Ensemble Models\n",
    "\n",
    "\n",
    "## 1. Regressão\n",
    "\n",
    "Na regressão linear, a multicolinearidade entre as variáveis independentes pode desestabilizar os coeficientes do modelo. Explique como a **Regressão Ridge** e a **Regressão Lasso** abordam essa questão de maneiras diferentes. Em quais cenários você preferiria uma em vez da outra?\n",
    "\n",
    "---\n",
    "\n",
    "## 2. Classificação\n",
    "\n",
    "Explique como o **desequilíbrio de classes** afeta o desempenho dos modelos de classificação. Quais estratégias você usaria para lidar com um conjunto de dados com uma variável alvo altamente desbalanceada, e como essas estratégias impactariam as métricas de avaliação do modelo?\n",
    "\n",
    "---\n",
    "\n",
    "## 3. Árvores de Decisão\n",
    "\n",
    "Árvores de Decisão são conhecidas pela tendência de se ajustarem demais aos dados de treinamento. Descreva o papel da **poda de árvores** e do **hiperparâmetro de profundidade máxima** no controle do overfitting. Como essas técnicas equilibram viés e variância no modelo?\n",
    "\n",
    "---\n",
    "\n",
    "## 4. Modelos de Ensemble\n",
    "\n",
    "Compare e contraste **Bagging** (por exemplo, Random Forest) e **Boosting** (por exemplo, Gradient Boosting Machines) em termos de suas abordagens para reduzir variância e viés. Como cada método afeta a robustez e interpretabilidade do modelo final?\n",
    "\n",
    "---\n",
    "\n",
    "## 5. Conjuntos de Árvores para Regressão vs Classificação\n",
    "\n",
    "Métodos de ensemble baseados em árvores, como Random Forests e Gradient Boosting, podem ser usados tanto para regressão quanto para classificação. Descreva as principais diferenças em como esses algoritmos são configurados e avaliados para problemas de regressão e classificação. Como os critérios de divisão e as métricas de desempenho mudam entre esses contextos?\n",
    "\n"
   ]
  }
 ],
 "metadata": {
  "language_info": {
   "name": "python"
  }
 },
 "nbformat": 4,
 "nbformat_minor": 5
}
