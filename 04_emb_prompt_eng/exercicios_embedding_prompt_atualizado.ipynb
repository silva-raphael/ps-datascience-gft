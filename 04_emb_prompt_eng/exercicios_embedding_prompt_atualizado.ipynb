{
 "cells": [
  {
   "cell_type": "markdown",
   "id": "1a2b88ce",
   "metadata": {},
   "source": [
    "# Exercícios de Embedding e Engenharia de Prompt\n",
    "\n",
    "Bem-vindo a este notebook onde você explorará dois conceitos críticos em NLP moderna:\n",
    "\n",
    "1. **Embeddings de Palavras**: Como palavras e sequências são representadas em espaços vetoriais densos.\n",
    "2. **Engenharia de Prompt**: Como projetar prompts efetivos para melhorar o desempenho de Modelos de Linguagem de Grande Escala (LLMs).\n",
    "\n",
    "Vamos começar!\n",
    "\n",
    "---"
   ]
  },
  {
   "cell_type": "markdown",
   "id": "a2bd0b11",
   "metadata": {},
   "source": [
    "## **Seção 1: Exercícios de Embedding de Palavras**"
   ]
  },
  {
   "cell_type": "markdown",
   "id": "7c9eca39",
   "metadata": {},
   "source": [
    "### **Exercício 1: Teórico - Entendendo Embeddings de Palavras**\n",
    "\n",
    "**Objetivo:** Explicar o conceito de embeddings de palavras.\n",
    "\n",
    "**Instruções:**\n",
    "\n",
    "- Descreva o que é um embedding de palavra e como ele difere de métodos tradicionais como codificação one-hot.\n",
    "- Discuta as vantagens de usar embeddings.\n",
    "- Explique como a similaridade cosseno é usada para comparar embeddings.\n",
    "\n",
    "➡️ **Escreva sua resposta abaixo em uma célula markdown.**"
   ]
  },
  {
   "cell_type": "markdown",
   "id": "f68eaf94",
   "metadata": {},
   "source": [
    "### **Exercício 2: Prático - Usando Word2Vec para Calcular Similaridades**\n",
    "\n",
    "**Objetivo:** Treinar um modelo Word2Vec e explorar similaridades entre palavras.\n",
    "\n",
    "**Instruções:**\n",
    "\n",
    "- Use `gensim` para treinar um modelo Word2Vec em um pequeno corpus de texto à sua escolha.\n",
    "- Selecione pelo menos 3 pares de palavras e calcule a similaridade cosseno entre elas usando o modelo treinado.\n",
    "- Visualize os embeddings usando PCA ou t-SNE em um espaço 2D.\n",
    "\n",
    "➡️ **Use a célula de código abaixo para realizar as tarefas.**"
   ]
  },
  {
   "cell_type": "code",
   "execution_count": null,
   "id": "54b6bafb",
   "metadata": {},
   "outputs": [],
   "source": [
    "# Importe as bibliotecas necessárias\n",
    "\n",
    "# Prepare um corpus simples\n",
    "\n",
    "# Treine um modelo Word2Vec\n",
    "\n",
    "# Selecione pares de palavras e calcule similaridades cosseno\n",
    "\n",
    "# Visualize os embeddings em 2D com PCA ou t-SNE"
   ]
  },
  {
   "cell_type": "markdown",
   "id": "306315d9",
   "metadata": {},
   "source": [
    "### **Exercício 3: Prático - Aritmética Vetorial com Embeddings**\n",
    "\n",
    "**Objetivo:** Demonstrar operações vetoriais com embeddings.\n",
    "\n",
    "**Instruções:**\n",
    "\n",
    "- Realize operações vetoriais como: `rei - homem + mulher = ?`.\n",
    "- Use `most_similar()` para encontrar qual palavra está mais próxima do vetor resultante.\n",
    "- Reflita sobre o que isso revela sobre a estrutura do espaço de embedding.\n",
    "\n",
    "➡️ **Use a célula de código abaixo para este experimento.**"
   ]
  },
  {
   "cell_type": "code",
   "execution_count": null,
   "id": "08860df0",
   "metadata": {},
   "outputs": [],
   "source": [
    "# Realize operações vetoriais usando o modelo Word2Vec treinado\n",
    "# Exemplo: model.wv.most_similar(positive=['rei', 'mulher'], negative=['homem'])"
   ]
  },
  {
   "cell_type": "markdown",
   "id": "c0f2c802",
   "metadata": {},
   "source": [
    "### **Exercício 4: Teórico - Codificação Posicional em Transformers**\n",
    "\n",
    "**Objetivo:** Entender a importância da codificação posicional e suas implicações nos modelos de linguagem.\n",
    "\n",
    "**Instruções:**\n",
    "\n",
    "1. Explique por que a codificação posicional é necessária em Transformers.\n",
    "2. Descreva a diferença entre codificações posicionais fixas (baseadas em funções seno e cosseno) e codificações aprendidas.\n",
    "3. Como a codificação posicional interage com o mecanismo de atenção nos Transformers?\n",
    "\n",
    "➡️ **Escreva suas respostas em células markdown.**"
   ]
  },
  {
   "cell_type": "markdown",
   "id": "e3a6932a",
   "metadata": {},
   "source": [
    "### **Exercício 5: Prático - Usando Embeddings Pré-Treinados para Similaridade de Sentenças**\n",
    "\n",
    "**Objetivo:** Aplicar embeddings pré-treinados para calcular similaridade entre sentenças.\n",
    "\n",
    "**Instruções:**\n",
    "\n",
    "- Carregue embeddings pré-treinados (ex: GloVe, FastText).\n",
    "- Crie uma função para calcular embeddings de sentenças, fazendo a média dos embeddings das palavras.\n",
    "- Escolha ao menos dois pares de sentenças: um par semanticamente similar e outro não.\n",
    "- Calcule e compare as similaridades cosseno entre os pares.\n",
    "\n",
    "➡️ **Use a célula de código abaixo para esta tarefa.**"
   ]
  },
  {
   "cell_type": "code",
   "execution_count": null,
   "id": "f56bd77e",
   "metadata": {},
   "outputs": [],
   "source": [
    "# Carregue embeddings pré-treinados\n",
    "\n",
    "# Defina uma função para calcular embeddings de sentenças\n",
    "\n",
    "# Escolha pares de sentenças e calcule similaridades"
   ]
  },
  {
   "cell_type": "markdown",
   "id": "717433ef",
   "metadata": {},
   "source": [
    "## **Seção 2: Exercícios de Engenharia de Prompt**"
   ]
  },
  {
   "cell_type": "code",
   "execution_count": null,
   "id": "32f4383e",
   "metadata": {},
   "outputs": [],
   "source": [
    "# --- Apenas rode essa célula\n",
    "%pip install groq"
   ]
  },
  {
   "cell_type": "code",
   "execution_count": null,
   "id": "8614ee98",
   "metadata": {},
   "outputs": [],
   "source": [
    "# código para chamada no modelo.\n",
    "# Apenas execute esta célula\n",
    "from groq import Groq\n",
    "\n",
    "client = Groq(api_key=\"<sua-api-key-aqui>\")\n",
    "\n",
    "# --- Função para chamada ao modelo ---\n",
    "def call(text: str) -> str:\n",
    "    \"\"\"Wrapper function for model calling\"\"\"\n",
    "    try:\n",
    "        completion = client.chat.completions.create(\n",
    "            model=\"llama-3.1-8b-instant\",\n",
    "            messages=[\n",
    "            {\n",
    "                \"role\": \"user\",\n",
    "                \"content\": text,\n",
    "            }\n",
    "            ],\n",
    "            temperature=1,\n",
    "            max_completion_tokens=1024,\n",
    "            top_p=1,\n",
    "            stream=False,\n",
    "            stop=None,\n",
    "        )\n",
    "        return completion.choices[0].message.content\n",
    "    \n",
    "    except Exception as e:\n",
    "        print(f\"Erro na chamada para o modelo: {e}\")\n",
    "        raise\n"
   ]
  },
  {
   "cell_type": "markdown",
   "id": "97146bc7",
   "metadata": {},
   "source": [
    "Execute esta célula para testar se a integração com o Groq está funcionando. Use a função ``call()`` para os exercícios de prompt engineering."
   ]
  },
  {
   "cell_type": "code",
   "execution_count": null,
   "id": "ccae279c",
   "metadata": {},
   "outputs": [],
   "source": [
    "call(\"Me conte uma piada\")"
   ]
  },
  {
   "cell_type": "markdown",
   "id": "1bcbfdd1",
   "metadata": {},
   "source": [
    "### **Exercício 1: Teórico - Introdução à Engenharia de Prompt**\n",
    "\n",
    "**Objetivo:** Entender o conceito e técnicas de engenharia de prompt.\n",
    "\n",
    "**Instruções:**\n",
    "\n",
    "- Defina engenharia de prompt com suas próprias palavras.\n",
    "- Explique por que engenharia de prompt é crítica ao trabalhar com LLMs.\n",
    "- Liste e descreva brevemente pelo menos três técnicas: zero-shot, few-shot, chain-of-thought.\n",
    "\n",
    "➡️ **Escreva sua explicação abaixo em uma célula markdown.**"
   ]
  },
  {
   "cell_type": "markdown",
   "id": "5d8e6fe3",
   "metadata": {},
   "source": [
    "### **Exercício 2: Prático - Zero-Shot Prompting**\n",
    "\n",
    "**Objetivo:** Explorar o zero-shot prompting.\n",
    "\n",
    "**Instruções:**\n",
    "\n",
    "Apresente ao modelo a seguinte sequência:\n",
    "\n",
    "```makefile\n",
    "Grass: Green  \n",
    "Sky: Blue  \n",
    "Sunflower: Yellow  \n",
    "```\n",
    "\n",
    "Agora peça:\n",
    "\"Continue a sequência com: Apple: ?\"\n",
    "\n",
    "Observe se o modelo associa corretamente o padrão de objeto-cor.\n",
    "Se ele falhar, explique como reformular o prompt para que ele compreenda melhor o padrão.\n",
    "\n",
    "➡️ **Use a célula de código abaixo para enviar seu prompt e observar a saída.**"
   ]
  },
  {
   "cell_type": "code",
   "execution_count": null,
   "id": "f3b2146f",
   "metadata": {},
   "outputs": [],
   "source": [
    "# Envie um prompt zero-shot para o modelo"
   ]
  },
  {
   "cell_type": "markdown",
   "id": "c75daf4f",
   "metadata": {},
   "source": [
    "### **Exercício 3: Prático - Few-Shot Prompting**\n",
    "\n",
    "**Objetivo:** Explorar o few-shot prompting.\n",
    "\n",
    "**Instruções:**\n",
    "\n",
    "- Forneça ao modelo alguns exemplos antes de pedir que realize a tarefa.\n",
    "- Apresente ao modelo:\n",
    "\n",
    "```makefile\n",
    "Apple: Purple  \n",
    "Banana: Purple  \n",
    "Lemon: Blue\n",
    "Elephant: Grey  \n",
    "```\n",
    "\n",
    "Neste caso, usaremos ``Purple`` para todas as frutas doces, ``Blue`` para todas as demais frutas e ``Grey`` para todos os animais.\n",
    "\n",
    "Faça um experiento pedindo ao modelo para classificar ``Tiger``, ``Tomato`` e ``Strawberry``. Veja o resultado. Tente depois fornecer um Few-Shot prompting para tentar formatar a resposta.\n",
    "\n",
    "➡️ **Use a célula de código abaixo para construir e enviar seu prompt few-shot.**"
   ]
  },
  {
   "cell_type": "code",
   "execution_count": null,
   "id": "26cd6be2",
   "metadata": {},
   "outputs": [],
   "source": [
    "# Envie um prompt few-shot para o modelo\n",
    "# Exemplo: tarefa de tradução com alguns exemplos"
   ]
  },
  {
   "cell_type": "markdown",
   "id": "32a17370",
   "metadata": {},
   "source": [
    "### **Exercício 4: Prático - Chain-of-Thought Prompting**\n",
    "\n",
    "**Objetivo:** Testar o chain-of-thought (CoT) prompting para melhorar o raciocínio.\n",
    "\n",
    "**Instruções:**\n",
    "\n",
    "- Repita o experimento anterior utilizando o Chain-of-Thought.\n",
    "- O resultado esperado ficou melhor ou pior? Por que?\n",
    "\n",
    "➡️ **Use a célula de código abaixo para enviar ambos os prompts e comparar os resultados.**"
   ]
  },
  {
   "cell_type": "code",
   "execution_count": null,
   "id": "478dfde1",
   "metadata": {},
   "outputs": [],
   "source": [
    "# Envie um prompt direto para resolver um problema de múltiplas etapas\n",
    "\n",
    "# Envie o mesmo prompt com CoT: \"Vamos pensar passo a passo...\""
   ]
  },
  {
   "cell_type": "markdown",
   "id": "1ceb7779",
   "metadata": {},
   "source": [
    "### **Exercício 5: Valence, Arousal, Emotion, Intensity**\n",
    "\n",
    "**Objetivo:** Controlar a saída do modelo para uma tarefa específica.\n",
    "\n",
    "**Instruções:**\n",
    "\n",
    "- Construa um prompt que permita o modelo classificar um texto segundo sua Valência, Excitação (Arousal), Emoção e Intensidade. A saída do modelo deverá ser apenas um JSON.\n",
    "- A resposta deve ser neste formato:\n",
    "  \n",
    "```makefile\n",
    "{\n",
    "    \"emotion\": \"[nome da emoção]\",\n",
    "    \"valence\": \"Positive\" ou \"Negative\",\n",
    "    \"arousal\": \"High\" ou \"Low\",\n",
    "    \"intensity\": número entre 0 e 1\n",
    "}\n",
    "```\n",
    "\n",
    "Avalie seu prompt nas seguintes frases:\n",
    "\n",
    "1. \"Apesar de tudo, sinto uma mistura de esperança e preocupação pelo futuro.\"  \n",
    "2. \"Eu ri, mas no fundo algo me incomodava durante a conversa.\"  \n",
    "3. \"O silêncio na sala me deixou inquieto, mas também aliviado.\"  \n",
    "4. \"Senti uma onda de tristeza que logo se transformou em determinação.\"  \n",
    "5. \"Estou exausto, mas feliz por ter conseguido terminar o projeto.\"  \n",
    "6. \"Minha mente está cheia de pensamentos confusos, mas uma pequena faísca de otimismo permanece.\"  \n",
    "7. \"A nostalgia tomou conta de mim, trazendo um sorriso melancólico.\"  \n",
    "8. \"Fiquei irritado no momento, mas agora vejo que foi uma reação exagerada.\"  \n",
    "9. \"O medo me paralisou, porém, uma curiosidade estranha me fez continuar.\"  \n",
    "10. \"Há uma calma tensa no ar, como se algo estivesse prestes a acontecer.\"\n",
    "\n",
    "➡️ **Use a célula de código abaixo para seus experimentos e resuma suas conclusões em uma célula markdown.**"
   ]
  },
  {
   "cell_type": "code",
   "execution_count": null,
   "id": "2c20da60",
   "metadata": {},
   "outputs": [],
   "source": [
    "# Seu código aqui"
   ]
  }
 ],
 "metadata": {
  "kernelspec": {
   "display_name": "Python 3",
   "language": "python",
   "name": "python3"
  },
  "language_info": {
   "codemirror_mode": {
    "name": "ipython",
    "version": 3
   },
   "file_extension": ".py",
   "mimetype": "text/x-python",
   "name": "python",
   "nbconvert_exporter": "python",
   "pygments_lexer": "ipython3",
   "version": "3.13.3"
  }
 },
 "nbformat": 4,
 "nbformat_minor": 5
}
