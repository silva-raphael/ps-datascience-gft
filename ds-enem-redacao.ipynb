{
 "cells": [
  {
   "cell_type": "markdown",
   "id": "ee04aa62",
   "metadata": {},
   "source": [
    "# 📊 Challenge – Data Science (Júnior)\n",
    "\n",
    "Bem-vindo ao **Challenge de Data Science** da BU de Dados e IA da GFT!\n",
    "\n",
    "Este desafio faz parte do nosso processo de seleção para integrar a equipe responsável pelo **Agent Factory**, uma iniciativa estratégica com foco em soluções de inteligência baseadas em dados.\n",
    "\n",
    "---\n",
    "\n",
    "## 🎯 Objetivo\n",
    "\n",
    "Seu objetivo neste desafio é construir um modelo simples de **machine learning** utilizando dados reais do ENEM, com o foco em **prever a nota da redação** de um candidato a partir de informações disponíveis no conjunto de dados.\n",
    "\n",
    "---\n",
    "\n",
    "## 🔍 O que você vai fazer\n",
    "\n",
    "Você será responsável por seguir as principais etapas de um projeto de Ciência de Dados, de forma simples e organizada:\n",
    "\n",
    "### 1. **Carregamento e exploração dos dados**\n",
    "\n",
    "* Utilize o dataset que disponibilizamos neste link: \n",
    "* Faça a leitura, entenda as colunas disponíveis e identifique quais podem ser úteis para a tarefa.\n",
    "\n",
    "### 2. **Análise exploratória dos dados (EDA)**\n",
    "\n",
    "* Crie visualizações e tabelas para entender o comportamento das variáveis.\n",
    "* Observe possíveis correlações com a nota da redação (`NU_NOTA_REDACAO`).\n",
    "* Verifique a existência de valores ausentes ou inconsistentes.\n",
    "\n",
    "### 3. **Construção do modelo**\n",
    "\n",
    "Você pode escolher entre duas abordagens:\n",
    "\n",
    "* **Regressão:** prever a nota exata da redação (de 0 a 1000).\n",
    "* **Classificação:** prever a faixa de desempenho da redação (por exemplo):\n",
    "\n",
    "  * **Baixa**: 0–400\n",
    "  * **Média**: 401–800\n",
    "  * **Alta**: 801–1000\n",
    "\n",
    "> Lembre-se principalmente da etapa de Feature Engineering. O dataset tem algumas variáveis que, apesar de representadas por valores numéricos, são **categóricas**. Você deverá tratá-las corretamente para adicioná-las ao modelo, se julgar necessário.\n",
    "\n",
    "### 4. **Avaliação do modelo**\n",
    "\n",
    "* Para regressão: use métricas como **MAE**, **RMSE** ou **R²**.\n",
    "* Para classificação: utilize **acurácia**, **precisão**, **recall**, **matriz de confusão**, etc.\n",
    "\n",
    "### 5. **Conclusão**\n",
    "\n",
    "* Destaque as variáveis que mais influenciaram na previsão.\n",
    "* Comente o desempenho do modelo e possíveis melhorias.\n",
    "* Aqui o que mais vale é sua explicação. Demonstre que entendeu todo o processo.\n",
    "\n",
    "---\n",
    "\n",
    "## 📁 Sobre os dados\n",
    "\n",
    "Você estará trabalhando com um dataset real do ENEM 2019, extraído do site do INEP. Para este desafio, selecionamos apenas 10.000 registros e algumas colunas, com o objetivo de não tornar o dataset tão pesado para as análises. As colunas selecionadas foram: \n",
    "\n",
    "| Coluna            | Descrição                                                                 | Categorias / Valores Possíveis                                                       |\n",
    "|-------------------|---------------------------------------------------------------------------|----------------------------------------------------------------------------------------|\n",
    "| NU_ANO            | Ano de realização do exame.                                               | Ex: 2019                                                                  |\n",
    "| NU_NOTA_CN        | Nota em Ciências da Natureza.                                             | Varia entre 0 e 1000                                                                  |\n",
    "| NU_NOTA_CH        | Nota em Ciências Humanas.                                                 | Varia entre 0 e 1000                                                                  |\n",
    "| NU_NOTA_LC        | Nota em Linguagens e Códigos.                                             | Varia entre 0 e 1000                                                                  |\n",
    "| NU_NOTA_MT        | Nota em Matemática.                                                       | Varia entre 0 e 1000                                                                  |\n",
    "| TP_ESCOLA         | Tipo de escola em que o participante concluiu ou está concluindo o EM.    | 1: Não respondeu <br>2: Pública<br>3: Privada<br>4: Exterior       |\n",
    "| NU_NOTA_REDACAO   | Nota obtida na redação.                                                   | Varia entre 0 e 1000                                                                  |\n",
    "| TP_ST_CONCLUSAO   | Situação de conclusão do Ensino Médio do participante.                    | 1: Já concluí<br>2: Estou cursando e vou concluir em 2019<br>3: Estou cursando e vou concluir após 2019 <br>4: Não concluí e não estou cursando o Ensino Médio|\n",
    "\n",
    "---\n",
    "\n",
    "## 📌 Entrega\n",
    "\n",
    "Você deverá entregar um **notebook Jupyter (.ipynb)** com:\n",
    "\n",
    "* As análises e visualizações realizadas\n",
    "* O(s) modelo(s) criados\n",
    "* Métricas utilizadas para avaliação\n",
    "* Conclusões finais\n",
    "\n",
    "> Organização, clareza nos comentários e boas práticas contam muitos pontos!\n",
    "\n",
    "---\n",
    "\n",
    "## 💡 Dicas\n",
    "\n",
    "* Comece com uma amostra menor para explorar os dados mais rapidamente.\n",
    "* Elimine colunas que não fazem sentido (como CPF, nome, código da prova, etc.).\n",
    "* Tente diferentes algoritmos, mas priorize o entendimento sobre a complexidade.\n",
    "* Comente cada etapa no seu notebook explicando o que está fazendo e por quê.\n",
    "* **Não se preocupe *tanto* com o resultado final**. O objetivo maior do exercício é avaliar a linha de raciocínio e o pensamento crítico resolver o case.\n",
    "* Você pode usar aplicações de IA Generativa. No entanto, todas as decisões serão questionadas. É importante entender o que está fazendo a todo momento.\n",
    "\n",
    "---\n",
    "\n",
    "## ✅ Critérios de Avaliação\n",
    "\n",
    "* Clareza e organização do notebook\n",
    "* Qualidade da análise exploratória\n",
    "* Adequação do modelo e interpretação dos resultados\n",
    "* Justificativa das decisões técnicas\n",
    "* Comunicação das conclusões\n",
    "\n",
    "---\n",
    "\n",
    "Boa sorte, e divirta-se no processo!\n",
    "Estamos ansiosos para ver como você vai transformar dados em conhecimento. 🚀"
   ]
  },
  {
   "cell_type": "markdown",
   "id": "e86426e6",
   "metadata": {},
   "source": [
    "# 0. Imports\n",
    "\n",
    "Faça aqui nesta seção todos os imports que você precisar. Já deixamos algumas sugestões prontas mas fique a vontade para usar quaisquer outras desejadas :)"
   ]
  },
  {
   "cell_type": "code",
   "execution_count": null,
   "id": "483ec702",
   "metadata": {},
   "outputs": [],
   "source": [
    "%pip install pandas\n",
    "%pip install numpy\n",
    "%pip install matplotlib\n",
    "%pip install scikit-learn\n",
    "%pip install xgboost\n",
    "%pip install seaborn"
   ]
  },
  {
   "cell_type": "markdown",
   "id": "a5d61e6c",
   "metadata": {},
   "source": [
    "## 📁 1. Carregamento e limpeza dos dados"
   ]
  },
  {
   "cell_type": "code",
   "execution_count": null,
   "id": "b88d6f1d",
   "metadata": {},
   "outputs": [],
   "source": []
  },
  {
   "cell_type": "markdown",
   "id": "b3a1dee2",
   "metadata": {},
   "source": [
    "### Limpeza e tratamento"
   ]
  },
  {
   "cell_type": "code",
   "execution_count": null,
   "id": "516d8dd3",
   "metadata": {},
   "outputs": [],
   "source": []
  },
  {
   "cell_type": "markdown",
   "id": "19929614",
   "metadata": {},
   "source": [
    "### Visualizações iniciais"
   ]
  },
  {
   "cell_type": "code",
   "execution_count": null,
   "id": "42e0ed93",
   "metadata": {},
   "outputs": [],
   "source": []
  },
  {
   "cell_type": "markdown",
   "id": "470f26b4",
   "metadata": {},
   "source": [
    "## 🤖 2. Análise exploratória dos dados"
   ]
  },
  {
   "cell_type": "code",
   "execution_count": null,
   "id": "b3e96c80",
   "metadata": {},
   "outputs": [],
   "source": []
  },
  {
   "cell_type": "markdown",
   "id": "b3a68d34",
   "metadata": {},
   "source": [
    "## 🧪 3. Construção do modelo (Treinamento e avaliação)"
   ]
  },
  {
   "cell_type": "code",
   "execution_count": null,
   "id": "ad1b5165",
   "metadata": {},
   "outputs": [],
   "source": []
  },
  {
   "cell_type": "markdown",
   "id": "0cb8ed85",
   "metadata": {},
   "source": [
    "## 🧠 4. Avaliação do modelo"
   ]
  },
  {
   "cell_type": "code",
   "execution_count": null,
   "id": "3c78913a",
   "metadata": {},
   "outputs": [],
   "source": []
  },
  {
   "cell_type": "markdown",
   "id": "5a581949",
   "metadata": {},
   "source": [
    "## 🗣️ 5. Conclusão"
   ]
  }
 ],
 "metadata": {
  "language_info": {
   "name": "python"
  }
 },
 "nbformat": 4,
 "nbformat_minor": 5
}
